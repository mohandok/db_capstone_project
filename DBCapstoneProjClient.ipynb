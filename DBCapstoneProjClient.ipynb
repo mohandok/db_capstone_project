{
 "cells": [
  {
   "cell_type": "code",
   "execution_count": 103,
   "id": "08ecc3bf-a5a7-4e9b-8882-89fc2bf832be",
   "metadata": {},
   "outputs": [
    {
     "name": "stdout",
     "output_type": "stream",
     "text": [
      "Requirement already satisfied: mysql-connector-python in c:\\users\\addri\\appdata\\local\\programs\\python\\python312\\lib\\site-packages (8.2.0)\n",
      "Requirement already satisfied: protobuf<=4.21.12,>=4.21.1 in c:\\users\\addri\\appdata\\local\\programs\\python\\python312\\lib\\site-packages (from mysql-connector-python) (4.21.12)\n"
     ]
    }
   ],
   "source": [
    "!pip install mysql-connector-python"
   ]
  },
  {
   "cell_type": "code",
   "execution_count": 2,
   "id": "be94e215-5875-4527-8c66-382abadcbb04",
   "metadata": {},
   "outputs": [
    {
     "name": "stdout",
     "output_type": "stream",
     "text": [
      "Collecting pymysql\n",
      "  Downloading PyMySQL-1.1.0-py3-none-any.whl.metadata (4.4 kB)\n",
      "Downloading PyMySQL-1.1.0-py3-none-any.whl (44 kB)\n",
      "   ---------------------------------------- 0.0/44.8 kB ? eta -:--:--\n",
      "   ---------------------------------------- 0.0/44.8 kB ? eta -:--:--\n",
      "   --------- ------------------------------ 10.2/44.8 kB ? eta -:--:--\n",
      "   --------- ------------------------------ 10.2/44.8 kB ? eta -:--:--\n",
      "   ------------------ --------------------- 20.5/44.8 kB 108.9 kB/s eta 0:00:01\n",
      "   ------------------------------------ --- 41.0/44.8 kB 217.9 kB/s eta 0:00:01\n",
      "   ------------------------------------ --- 41.0/44.8 kB 217.9 kB/s eta 0:00:01\n",
      "   ------------------------------------ --- 41.0/44.8 kB 217.9 kB/s eta 0:00:01\n",
      "   ------------------------------------ --- 41.0/44.8 kB 217.9 kB/s eta 0:00:01\n",
      "   ---------------------------------------- 44.8/44.8 kB 105.3 kB/s eta 0:00:00\n",
      "Installing collected packages: pymysql\n",
      "Successfully installed pymysql-1.1.0\n"
     ]
    }
   ],
   "source": [
    "!pip install pymysql"
   ]
  },
  {
   "cell_type": "code",
   "execution_count": 3,
   "id": "8dc4f981-e7ca-4153-b11a-824f1c20150e",
   "metadata": {},
   "outputs": [],
   "source": [
    "from pymysql import connect\n",
    "import pandas as pd"
   ]
  },
  {
   "cell_type": "code",
   "execution_count": 4,
   "id": "6cab2292-0862-445f-abde-fc54a03830dc",
   "metadata": {},
   "outputs": [],
   "source": [
    "import mysql.connector as connector\n",
    "import os"
   ]
  },
  {
   "cell_type": "code",
   "execution_count": 5,
   "id": "c7a60872-e11a-47ac-b665-12cb049821b7",
   "metadata": {},
   "outputs": [],
   "source": [
    "db=connect(host='localhost',\n",
    "           user='root',\n",
    "           passwd='Newcastle@123')"
   ]
  },
  {
   "cell_type": "code",
   "execution_count": 6,
   "id": "f2921079-5ffc-47fd-9208-618f6faff85b",
   "metadata": {},
   "outputs": [],
   "source": [
    "cur=db.cursor()"
   ]
  },
  {
   "cell_type": "code",
   "execution_count": 7,
   "id": "043e8e78-ce2b-4869-953a-f3b16067c8ee",
   "metadata": {},
   "outputs": [],
   "source": [
    "que='show databases'"
   ]
  },
  {
   "cell_type": "code",
   "execution_count": 8,
   "id": "2c0b158d-695b-42d9-b668-5cbc35576f83",
   "metadata": {},
   "outputs": [
    {
     "data": {
      "text/plain": [
       "11"
      ]
     },
     "execution_count": 8,
     "metadata": {},
     "output_type": "execute_result"
    }
   ],
   "source": [
    "cur.execute(que)"
   ]
  },
  {
   "cell_type": "code",
   "execution_count": 9,
   "id": "2c8ef0f6-a62b-452d-905b-d1bc848173b5",
   "metadata": {},
   "outputs": [],
   "source": [
    "dbc=cur.fetchall()"
   ]
  },
  {
   "cell_type": "code",
   "execution_count": 10,
   "id": "1e26eaf6-4a8c-4157-9171-60fd768acfd8",
   "metadata": {},
   "outputs": [
    {
     "name": "stdout",
     "output_type": "stream",
     "text": [
      "('db_capstone_proj',)\n",
      "('globalsuperstoredatabase',)\n",
      "('information_schema',)\n",
      "('little_lemon_db',)\n",
      "('littlelemondb',)\n",
      "('mangata_gallo',)\n",
      "('mangata_jw_db',)\n",
      "('mg_schema',)\n",
      "('mysql',)\n",
      "('performance_schema',)\n",
      "('sys',)\n"
     ]
    }
   ],
   "source": [
    "for i in dbc:\n",
    "    print(i)"
   ]
  },
  {
   "cell_type": "code",
   "execution_count": 17,
   "id": "14384442-d72c-4648-bca0-3dd218900c74",
   "metadata": {},
   "outputs": [
    {
     "data": {
      "text/plain": [
       "8"
      ]
     },
     "execution_count": 17,
     "metadata": {},
     "output_type": "execute_result"
    }
   ],
   "source": [
    "db_use_query = \"USE db_capstone_proj\" \n",
    "cur.execute(show_tables_query)"
   ]
  },
  {
   "cell_type": "code",
   "execution_count": 18,
   "id": "0be4fc7e-6681-4a36-a534-1207f98a6a8a",
   "metadata": {},
   "outputs": [
    {
     "data": {
      "text/plain": [
       "8"
      ]
     },
     "execution_count": 18,
     "metadata": {},
     "output_type": "execute_result"
    }
   ],
   "source": [
    "show_tables_query = \"SHOW tables\" \n",
    "cur.execute(show_tables_query)"
   ]
  },
  {
   "cell_type": "code",
   "execution_count": 19,
   "id": "425a6276-3f3b-44de-a5cd-f203246d4b59",
   "metadata": {},
   "outputs": [],
   "source": [
    "tables=cur.fetchall()"
   ]
  },
  {
   "cell_type": "code",
   "execution_count": 20,
   "id": "d31656c4-b041-4254-afb7-16beb3b2c2a5",
   "metadata": {},
   "outputs": [
    {
     "name": "stdout",
     "output_type": "stream",
     "text": [
      "('bookings',)\n",
      "('customerdetails',)\n",
      "('menuitems',)\n",
      "('menus',)\n",
      "('orderdeliverystatus',)\n",
      "('orders',)\n",
      "('ordersview',)\n",
      "('staffinfo',)\n"
     ]
    }
   ],
   "source": [
    "for i in tables:\n",
    "    print(i)"
   ]
  },
  {
   "cell_type": "code",
   "execution_count": 23,
   "id": "9486b118-20ca-4eb3-b633-9ebb9089ee9d",
   "metadata": {},
   "outputs": [],
   "source": [
    "joinquery=\"\"\"SELECT customerdetails.Name, customerdetails.ContactNumber, orders.TotalCost FROM customerdetails INNER JOIN orders ON customerdetails.CustomerID = orders.CustomerID WHERE orders.TotalCost > 60;\"\"\"\n"
   ]
  },
  {
   "cell_type": "code",
   "execution_count": 24,
   "id": "d4ab85d2-be8b-44e1-8bbd-501b6dce6ae1",
   "metadata": {},
   "outputs": [],
   "source": [
    "cur.execute(joinquery)\n",
    "joinqueryres=cur.fetchall()"
   ]
  },
  {
   "cell_type": "code",
   "execution_count": 25,
   "id": "fbf9edeb-c15b-4e8c-91f9-9c7f25582eac",
   "metadata": {},
   "outputs": [
    {
     "name": "stdout",
     "output_type": "stream",
     "text": [
      "('Sophia Williams', '07767958847', Decimal('189'))\n",
      "('Charlotte Taylor', '07767958853', Decimal('156'))\n",
      "('Ava Jones', '07767958849', Decimal('186'))\n",
      "('Ava Jones', '07767958849', Decimal('114'))\n"
     ]
    }
   ],
   "source": [
    "for i in joinqueryres:\n",
    "    print(i)"
   ]
  }
 ],
 "metadata": {
  "kernelspec": {
   "display_name": "Python 3 (ipykernel)",
   "language": "python",
   "name": "python3"
  },
  "language_info": {
   "codemirror_mode": {
    "name": "ipython",
    "version": 3
   },
   "file_extension": ".py",
   "mimetype": "text/x-python",
   "name": "python",
   "nbconvert_exporter": "python",
   "pygments_lexer": "ipython3",
   "version": "3.12.0"
  }
 },
 "nbformat": 4,
 "nbformat_minor": 5
}
